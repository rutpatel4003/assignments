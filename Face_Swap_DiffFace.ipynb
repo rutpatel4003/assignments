{
  "cells": [
    {
      "cell_type": "code",
      "source": [
        "!git clone https://github.com/harry2141985/DiffFace.git # Download the FaceDiff model and files from here"
      ],
      "metadata": {
        "id": "B8kjTWgbrrE-"
      },
      "execution_count": null,
      "outputs": []
    },
    {
      "cell_type": "code",
      "source": [
        "# Install the PyTorch and other libraries versions mentioned here, requirements folder is present in the main folder\n",
        "!pip install torch==1.11.0+cu113 torchvision==0.12.0+cu113 torchaudio==0.11.0+cu113 -f https://download.pytorch.org/whl/torch_stable.html\n",
        "%cd \"/content/DiffFace/\"\n",
        "!pip install -r requirements.txt"
      ],
      "metadata": {
        "colab": {
          "base_uri": "https://localhost:8080/"
        },
        "id": "yCpJ1gPNjVGM",
        "outputId": "b7df1f2a-c112-49f3-ea32-c407deccaa2d"
      },
      "execution_count": null,
      "outputs": [
        {
          "output_type": "stream",
          "name": "stdout",
          "text": [
            "Looking in links: https://download.pytorch.org/whl/torch_stable.html\n",
            "Requirement already satisfied: torch==1.11.0+cu113 in /usr/local/lib/python3.10/dist-packages (1.11.0+cu113)\n",
            "Requirement already satisfied: torchvision==0.12.0+cu113 in /usr/local/lib/python3.10/dist-packages (0.12.0+cu113)\n",
            "Requirement already satisfied: torchaudio==0.11.0+cu113 in /usr/local/lib/python3.10/dist-packages (0.11.0+cu113)\n",
            "Requirement already satisfied: typing-extensions in /usr/local/lib/python3.10/dist-packages (from torch==1.11.0+cu113) (4.12.2)\n",
            "Requirement already satisfied: numpy in /usr/local/lib/python3.10/dist-packages (from torchvision==0.12.0+cu113) (1.26.4)\n",
            "Requirement already satisfied: requests in /usr/local/lib/python3.10/dist-packages (from torchvision==0.12.0+cu113) (2.32.3)\n",
            "Requirement already satisfied: pillow!=8.3.*,>=5.3.0 in /usr/local/lib/python3.10/dist-packages (from torchvision==0.12.0+cu113) (9.4.0)\n",
            "Requirement already satisfied: charset-normalizer<4,>=2 in /usr/local/lib/python3.10/dist-packages (from requests->torchvision==0.12.0+cu113) (3.3.2)\n",
            "Requirement already satisfied: idna<4,>=2.5 in /usr/local/lib/python3.10/dist-packages (from requests->torchvision==0.12.0+cu113) (3.8)\n",
            "Requirement already satisfied: urllib3<3,>=1.21.1 in /usr/local/lib/python3.10/dist-packages (from requests->torchvision==0.12.0+cu113) (2.0.7)\n",
            "Requirement already satisfied: certifi>=2017.4.17 in /usr/local/lib/python3.10/dist-packages (from requests->torchvision==0.12.0+cu113) (2024.7.4)\n",
            "/content/DiffFace\n",
            "Collecting opencv-python==4.6.0.66 (from -r requirements.txt (line 1))\n",
            "  Downloading opencv_python-4.6.0.66-cp36-abi3-manylinux_2_17_x86_64.manylinux2014_x86_64.whl.metadata (18 kB)\n",
            "Collecting lpips==0.1.4 (from -r requirements.txt (line 2))\n",
            "  Downloading lpips-0.1.4-py3-none-any.whl.metadata (10 kB)\n",
            "Collecting face_alignment==1.3.5 (from -r requirements.txt (line 3))\n",
            "  Downloading face_alignment-1.3.5-py2.py3-none-any.whl.metadata (6.6 kB)\n",
            "Collecting kornia==0.6.7 (from -r requirements.txt (line 4))\n",
            "  Downloading kornia-0.6.7-py2.py3-none-any.whl.metadata (12 kB)\n",
            "Requirement already satisfied: matplotlib in /usr/local/lib/python3.10/dist-packages (from -r requirements.txt (line 5)) (3.7.1)\n",
            "Requirement already satisfied: tqdm in /usr/local/lib/python3.10/dist-packages (from -r requirements.txt (line 6)) (4.66.5)\n",
            "Requirement already satisfied: ipykernel in /usr/local/lib/python3.10/dist-packages (from -r requirements.txt (line 7)) (5.5.6)\n",
            "Collecting unidecode (from -r requirements.txt (line 8))\n",
            "  Downloading Unidecode-1.3.8-py3-none-any.whl.metadata (13 kB)\n",
            "Collecting piexif (from -r requirements.txt (line 9))\n",
            "  Downloading piexif-1.1.3-py2.py3-none-any.whl.metadata (3.7 kB)\n",
            "Collecting ffmpeg-python==0.1.17 (from -r requirements.txt (line 10))\n",
            "  Downloading ffmpeg_python-0.1.17-py3-none-any.whl.metadata (1.4 kB)\n",
            "Requirement already satisfied: numpy>=1.21.2 in /usr/local/lib/python3.10/dist-packages (from opencv-python==4.6.0.66->-r requirements.txt (line 1)) (1.26.4)\n",
            "Requirement already satisfied: torch>=0.4.0 in /usr/local/lib/python3.10/dist-packages (from lpips==0.1.4->-r requirements.txt (line 2)) (1.11.0+cu113)\n",
            "Requirement already satisfied: torchvision>=0.2.1 in /usr/local/lib/python3.10/dist-packages (from lpips==0.1.4->-r requirements.txt (line 2)) (0.12.0+cu113)\n",
            "Requirement already satisfied: scipy>=1.0.1 in /usr/local/lib/python3.10/dist-packages (from lpips==0.1.4->-r requirements.txt (line 2)) (1.13.1)\n",
            "Requirement already satisfied: scikit-image in /usr/local/lib/python3.10/dist-packages (from face_alignment==1.3.5->-r requirements.txt (line 3)) (0.23.2)\n",
            "Requirement already satisfied: numba in /usr/local/lib/python3.10/dist-packages (from face_alignment==1.3.5->-r requirements.txt (line 3)) (0.60.0)\n",
            "Requirement already satisfied: packaging in /usr/local/lib/python3.10/dist-packages (from kornia==0.6.7->-r requirements.txt (line 4)) (24.1)\n",
            "Requirement already satisfied: future in /usr/local/lib/python3.10/dist-packages (from ffmpeg-python==0.1.17->-r requirements.txt (line 10)) (1.0.0)\n",
            "Requirement already satisfied: contourpy>=1.0.1 in /usr/local/lib/python3.10/dist-packages (from matplotlib->-r requirements.txt (line 5)) (1.2.1)\n",
            "Requirement already satisfied: cycler>=0.10 in /usr/local/lib/python3.10/dist-packages (from matplotlib->-r requirements.txt (line 5)) (0.12.1)\n",
            "Requirement already satisfied: fonttools>=4.22.0 in /usr/local/lib/python3.10/dist-packages (from matplotlib->-r requirements.txt (line 5)) (4.53.1)\n",
            "Requirement already satisfied: kiwisolver>=1.0.1 in /usr/local/lib/python3.10/dist-packages (from matplotlib->-r requirements.txt (line 5)) (1.4.5)\n",
            "Requirement already satisfied: pillow>=6.2.0 in /usr/local/lib/python3.10/dist-packages (from matplotlib->-r requirements.txt (line 5)) (9.4.0)\n",
            "Requirement already satisfied: pyparsing>=2.3.1 in /usr/local/lib/python3.10/dist-packages (from matplotlib->-r requirements.txt (line 5)) (3.1.4)\n",
            "Requirement already satisfied: python-dateutil>=2.7 in /usr/local/lib/python3.10/dist-packages (from matplotlib->-r requirements.txt (line 5)) (2.8.2)\n",
            "Requirement already satisfied: ipython-genutils in /usr/local/lib/python3.10/dist-packages (from ipykernel->-r requirements.txt (line 7)) (0.2.0)\n",
            "Requirement already satisfied: ipython>=5.0.0 in /usr/local/lib/python3.10/dist-packages (from ipykernel->-r requirements.txt (line 7)) (7.34.0)\n",
            "Requirement already satisfied: traitlets>=4.1.0 in /usr/local/lib/python3.10/dist-packages (from ipykernel->-r requirements.txt (line 7)) (5.7.1)\n",
            "Requirement already satisfied: jupyter-client in /usr/local/lib/python3.10/dist-packages (from ipykernel->-r requirements.txt (line 7)) (6.1.12)\n",
            "Requirement already satisfied: tornado>=4.2 in /usr/local/lib/python3.10/dist-packages (from ipykernel->-r requirements.txt (line 7)) (6.3.3)\n",
            "Requirement already satisfied: setuptools>=18.5 in /usr/local/lib/python3.10/dist-packages (from ipython>=5.0.0->ipykernel->-r requirements.txt (line 7)) (71.0.4)\n",
            "Collecting jedi>=0.16 (from ipython>=5.0.0->ipykernel->-r requirements.txt (line 7))\n",
            "  Using cached jedi-0.19.1-py2.py3-none-any.whl.metadata (22 kB)\n",
            "Requirement already satisfied: decorator in /usr/local/lib/python3.10/dist-packages (from ipython>=5.0.0->ipykernel->-r requirements.txt (line 7)) (4.4.2)\n",
            "Requirement already satisfied: pickleshare in /usr/local/lib/python3.10/dist-packages (from ipython>=5.0.0->ipykernel->-r requirements.txt (line 7)) (0.7.5)\n",
            "Requirement already satisfied: prompt-toolkit!=3.0.0,!=3.0.1,<3.1.0,>=2.0.0 in /usr/local/lib/python3.10/dist-packages (from ipython>=5.0.0->ipykernel->-r requirements.txt (line 7)) (3.0.47)\n",
            "Requirement already satisfied: pygments in /usr/local/lib/python3.10/dist-packages (from ipython>=5.0.0->ipykernel->-r requirements.txt (line 7)) (2.16.1)\n",
            "Requirement already satisfied: backcall in /usr/local/lib/python3.10/dist-packages (from ipython>=5.0.0->ipykernel->-r requirements.txt (line 7)) (0.2.0)\n",
            "Requirement already satisfied: matplotlib-inline in /usr/local/lib/python3.10/dist-packages (from ipython>=5.0.0->ipykernel->-r requirements.txt (line 7)) (0.1.7)\n",
            "Requirement already satisfied: pexpect>4.3 in /usr/local/lib/python3.10/dist-packages (from ipython>=5.0.0->ipykernel->-r requirements.txt (line 7)) (4.9.0)\n",
            "Requirement already satisfied: six>=1.5 in /usr/local/lib/python3.10/dist-packages (from python-dateutil>=2.7->matplotlib->-r requirements.txt (line 5)) (1.16.0)\n",
            "Requirement already satisfied: typing-extensions in /usr/local/lib/python3.10/dist-packages (from torch>=0.4.0->lpips==0.1.4->-r requirements.txt (line 2)) (4.12.2)\n",
            "Requirement already satisfied: requests in /usr/local/lib/python3.10/dist-packages (from torchvision>=0.2.1->lpips==0.1.4->-r requirements.txt (line 2)) (2.32.3)\n",
            "Requirement already satisfied: jupyter-core>=4.6.0 in /usr/local/lib/python3.10/dist-packages (from jupyter-client->ipykernel->-r requirements.txt (line 7)) (5.7.2)\n",
            "Requirement already satisfied: pyzmq>=13 in /usr/local/lib/python3.10/dist-packages (from jupyter-client->ipykernel->-r requirements.txt (line 7)) (24.0.1)\n",
            "Requirement already satisfied: llvmlite<0.44,>=0.43.0dev0 in /usr/local/lib/python3.10/dist-packages (from numba->face_alignment==1.3.5->-r requirements.txt (line 3)) (0.43.0)\n",
            "Requirement already satisfied: networkx>=2.8 in /usr/local/lib/python3.10/dist-packages (from scikit-image->face_alignment==1.3.5->-r requirements.txt (line 3)) (3.3)\n",
            "Requirement already satisfied: imageio>=2.33 in /usr/local/lib/python3.10/dist-packages (from scikit-image->face_alignment==1.3.5->-r requirements.txt (line 3)) (2.34.2)\n",
            "Requirement already satisfied: tifffile>=2022.8.12 in /usr/local/lib/python3.10/dist-packages (from scikit-image->face_alignment==1.3.5->-r requirements.txt (line 3)) (2024.8.24)\n",
            "Requirement already satisfied: lazy-loader>=0.4 in /usr/local/lib/python3.10/dist-packages (from scikit-image->face_alignment==1.3.5->-r requirements.txt (line 3)) (0.4)\n",
            "Requirement already satisfied: parso<0.9.0,>=0.8.3 in /usr/local/lib/python3.10/dist-packages (from jedi>=0.16->ipython>=5.0.0->ipykernel->-r requirements.txt (line 7)) (0.8.4)\n",
            "Requirement already satisfied: platformdirs>=2.5 in /usr/local/lib/python3.10/dist-packages (from jupyter-core>=4.6.0->jupyter-client->ipykernel->-r requirements.txt (line 7)) (4.2.2)\n",
            "Requirement already satisfied: ptyprocess>=0.5 in /usr/local/lib/python3.10/dist-packages (from pexpect>4.3->ipython>=5.0.0->ipykernel->-r requirements.txt (line 7)) (0.7.0)\n",
            "Requirement already satisfied: wcwidth in /usr/local/lib/python3.10/dist-packages (from prompt-toolkit!=3.0.0,!=3.0.1,<3.1.0,>=2.0.0->ipython>=5.0.0->ipykernel->-r requirements.txt (line 7)) (0.2.13)\n",
            "Requirement already satisfied: charset-normalizer<4,>=2 in /usr/local/lib/python3.10/dist-packages (from requests->torchvision>=0.2.1->lpips==0.1.4->-r requirements.txt (line 2)) (3.3.2)\n",
            "Requirement already satisfied: idna<4,>=2.5 in /usr/local/lib/python3.10/dist-packages (from requests->torchvision>=0.2.1->lpips==0.1.4->-r requirements.txt (line 2)) (3.8)\n",
            "Requirement already satisfied: urllib3<3,>=1.21.1 in /usr/local/lib/python3.10/dist-packages (from requests->torchvision>=0.2.1->lpips==0.1.4->-r requirements.txt (line 2)) (2.0.7)\n",
            "Requirement already satisfied: certifi>=2017.4.17 in /usr/local/lib/python3.10/dist-packages (from requests->torchvision>=0.2.1->lpips==0.1.4->-r requirements.txt (line 2)) (2024.7.4)\n",
            "Downloading opencv_python-4.6.0.66-cp36-abi3-manylinux_2_17_x86_64.manylinux2014_x86_64.whl (60.9 MB)\n",
            "\u001b[2K   \u001b[90m━━━━━━━━━━━━━━━━━━━━━━━━━━━━━━━━━━━━━━━━\u001b[0m \u001b[32m60.9/60.9 MB\u001b[0m \u001b[31m12.6 MB/s\u001b[0m eta \u001b[36m0:00:00\u001b[0m\n",
            "\u001b[?25hDownloading lpips-0.1.4-py3-none-any.whl (53 kB)\n",
            "\u001b[2K   \u001b[90m━━━━━━━━━━━━━━━━━━━━━━━━━━━━━━━━━━━━━━━━\u001b[0m \u001b[32m53.8/53.8 kB\u001b[0m \u001b[31m4.1 MB/s\u001b[0m eta \u001b[36m0:00:00\u001b[0m\n",
            "\u001b[?25hDownloading face_alignment-1.3.5-py2.py3-none-any.whl (29 kB)\n",
            "Downloading kornia-0.6.7-py2.py3-none-any.whl (565 kB)\n",
            "\u001b[2K   \u001b[90m━━━━━━━━━━━━━━━━━━━━━━━━━━━━━━━━━━━━━━━━\u001b[0m \u001b[32m565.1/565.1 kB\u001b[0m \u001b[31m34.1 MB/s\u001b[0m eta \u001b[36m0:00:00\u001b[0m\n",
            "\u001b[?25hDownloading ffmpeg_python-0.1.17-py3-none-any.whl (20 kB)\n",
            "Downloading Unidecode-1.3.8-py3-none-any.whl (235 kB)\n",
            "\u001b[2K   \u001b[90m━━━━━━━━━━━━━━━━━━━━━━━━━━━━━━━━━━━━━━━━\u001b[0m \u001b[32m235.5/235.5 kB\u001b[0m \u001b[31m16.7 MB/s\u001b[0m eta \u001b[36m0:00:00\u001b[0m\n",
            "\u001b[?25hDownloading piexif-1.1.3-py2.py3-none-any.whl (20 kB)\n",
            "Using cached jedi-0.19.1-py2.py3-none-any.whl (1.6 MB)\n",
            "Installing collected packages: unidecode, piexif, opencv-python, jedi, ffmpeg-python, kornia, lpips, face_alignment\n",
            "  Attempting uninstall: opencv-python\n",
            "    Found existing installation: opencv-python 4.10.0.84\n",
            "    Uninstalling opencv-python-4.10.0.84:\n",
            "      Successfully uninstalled opencv-python-4.10.0.84\n",
            "  Attempting uninstall: ffmpeg-python\n",
            "    Found existing installation: ffmpeg-python 0.2.0\n",
            "    Uninstalling ffmpeg-python-0.2.0:\n",
            "      Successfully uninstalled ffmpeg-python-0.2.0\n",
            "Successfully installed face_alignment-1.3.5 ffmpeg-python-0.1.17 jedi-0.19.1 kornia-0.6.7 lpips-0.1.4 opencv-python-4.6.0.66 piexif-1.1.3 unidecode-1.3.8\n"
          ]
        }
      ]
    },
    {
      "cell_type": "code",
      "execution_count": null,
      "metadata": {
        "colab": {
          "base_uri": "https://localhost:8080/"
        },
        "id": "PKml5oZo1g0j",
        "outputId": "d70a24db-bdd8-46c2-d879-883bf26ab663"
      },
      "outputs": [
        {
          "output_type": "stream",
          "name": "stdout",
          "text": [
            "Requirement already satisfied: gdown in /usr/local/lib/python3.10/dist-packages (5.1.0)\n",
            "Requirement already satisfied: beautifulsoup4 in /usr/local/lib/python3.10/dist-packages (from gdown) (4.12.3)\n",
            "Requirement already satisfied: filelock in /usr/local/lib/python3.10/dist-packages (from gdown) (3.15.4)\n",
            "Requirement already satisfied: requests[socks] in /usr/local/lib/python3.10/dist-packages (from gdown) (2.32.3)\n",
            "Requirement already satisfied: tqdm in /usr/local/lib/python3.10/dist-packages (from gdown) (4.66.5)\n",
            "Requirement already satisfied: soupsieve>1.2 in /usr/local/lib/python3.10/dist-packages (from beautifulsoup4->gdown) (2.6)\n",
            "Requirement already satisfied: charset-normalizer<4,>=2 in /usr/local/lib/python3.10/dist-packages (from requests[socks]->gdown) (3.3.2)\n",
            "Requirement already satisfied: idna<4,>=2.5 in /usr/local/lib/python3.10/dist-packages (from requests[socks]->gdown) (3.8)\n",
            "Requirement already satisfied: urllib3<3,>=1.21.1 in /usr/local/lib/python3.10/dist-packages (from requests[socks]->gdown) (2.0.7)\n",
            "Requirement already satisfied: certifi>=2017.4.17 in /usr/local/lib/python3.10/dist-packages (from requests[socks]->gdown) (2024.7.4)\n",
            "Requirement already satisfied: PySocks!=1.5.7,>=1.5.6 in /usr/local/lib/python3.10/dist-packages (from requests[socks]->gdown) (1.7.1)\n"
          ]
        },
        {
          "output_type": "stream",
          "name": "stderr",
          "text": [
            "Downloading...\n",
            "From (original): https://drive.google.com/uc?id=1z7u38LsVaPV2ew_Ci_YLf48i-_Cge8po\n",
            "From (redirected): https://drive.google.com/uc?id=1z7u38LsVaPV2ew_Ci_YLf48i-_Cge8po&confirm=t&uuid=8a92c41b-f050-4e5b-bde9-2f3dfc90d71c\n",
            "To: /content/DiffFace/checkpoints.zip\n",
            "100%|██████████| 3.07G/3.07G [00:48<00:00, 63.0MB/s]\n"
          ]
        },
        {
          "output_type": "stream",
          "name": "stdout",
          "text": [
            "/content/DiffFace\n",
            "Archive:  checkpoints.zip\n",
            " extracting: checkpoints/Arcface.tar  \n",
            " extracting: checkpoints/FaceParser.pth  \n",
            " extracting: checkpoints/GazeEstimator.pt  \n",
            " extracting: checkpoints/Model.pt    \n"
          ]
        }
      ],
      "source": [
        "!pip install gdown\n",
        "import gdown\n",
        "\n",
        "output = \"/content/DiffFace/checkpoints.zip\" # Save the file in the folder\n",
        "\n",
        "gdown.download(f\"https://drive.google.com/uc?id=1z7u38LsVaPV2ew_Ci_YLf48i-_Cge8po\", output, quiet=False) # Download the files using gzip\n",
        "\n",
        "%cd \"/content/DiffFace/\"\n",
        "\n",
        "!unzip checkpoints.zip # Unzip the checkpoints.zip"
      ]
    },
    {
      "cell_type": "code",
      "execution_count": null,
      "metadata": {
        "colab": {
          "base_uri": "https://localhost:8080/"
        },
        "id": "tE6MGzD415wj",
        "outputId": "84a2f0bb-3017-432f-8792-4a2956311939"
      },
      "outputs": [
        {
          "output_type": "stream",
          "name": "stdout",
          "text": [
            "/content/DiffFace\n",
            "Checking source directory:\n",
            "['aligned', 'src.png']\n",
            "Checking destination directory:\n",
            "['dst.png', 'aligned', 'preded', 'merged']\n",
            "Files found with pattern: ./data/src/src.*\n",
            "Files found with pattern: ./data/dst/dst.*\n",
            "Source Extension: png\n",
            "Destination Extension: png\n",
            "Requested Crop\n",
            "Downloading: \"https://github.com/mantasu/face-crop-plus/releases/download/v1.0.0/retinaface_detector.pth\" to /root/.cache/torch/hub/checkpoints/retinaface_detector.pth\n",
            "100% 104M/104M [00:00<00:00, 121MB/s]\n",
            "Processing:   0% 0/1 [00:00<?, ?it/s]/content/DiffFace/face_crop_plus/utils.py:264: UserWarning: Could not read the image ./data/src/aligned\n",
            "  warnings.warn(f\"Could not read the image {path}\")\n",
            "Processing: 100% 1/1 [00:15<00:00, 15.60s/it]\n",
            "Processing:   0% 0/1 [00:00<?, ?it/s]/content/DiffFace/face_crop_plus/utils.py:264: UserWarning: Could not read the image ./data/dst/aligned\n",
            "  warnings.warn(f\"Could not read the image {path}\")\n",
            "/content/DiffFace/face_crop_plus/utils.py:264: UserWarning: Could not read the image ./data/dst/preded\n",
            "  warnings.warn(f\"Could not read the image {path}\")\n",
            "/content/DiffFace/face_crop_plus/utils.py:264: UserWarning: Could not read the image ./data/dst/merged\n",
            "  warnings.warn(f\"Could not read the image {path}\")\n",
            "Processing: 100% 1/1 [00:16<00:00, 16.03s/it]\n",
            "Requested Edit\n",
            "Using device: cpu\n",
            "/usr/local/lib/python3.10/dist-packages/torch/serialization.py:786: SourceChangeWarning: source code of class 'torch.nn.parallel.data_parallel.DataParallel' has changed. you can retrieve the original source code by accessing the object's source attribute or set `torch.nn.Module.dump_patches = True` and use the patch tool to revert the changes.\n",
            "  warnings.warn(msg, SourceChangeWarning)\n",
            "Traceback (most recent call last):\n",
            "  File \"/content/DiffFace/main.py\", line 97, in <module>\n",
            "    image_editor = ImageEditor(args)\n",
            "  File \"/content/DiffFace/optimization/image_editor.py\", line 115, in __init__\n",
            "    self.model, self.diffusion = create_model_and_diffusion(**self.model_config)\n",
            "  File \"/content/DiffFace/models/guided_diffusion/script_util.py\", line 117, in create_model_and_diffusion\n",
            "    diffusion = create_gaussian_diffusion(\n",
            "  File \"/content/DiffFace/models/guided_diffusion/script_util.py\", line 407, in create_gaussian_diffusion\n",
            "    return SpacedDiffusion(\n",
            "  File \"/content/DiffFace/models/guided_diffusion/respace.py\", line 77, in __init__\n",
            "    base_diffusion = GaussianDiffusion(**kwargs)  # pylint: disable=missing-kwoa\n",
            "  File \"/content/DiffFace/models/guided_diffusion/gaussian_diffusion.py\", line 176, in __init__\n",
            "    netArc_checkpoint = torch.load('./checkpoints/Arcface.tar')\n",
            "  File \"/usr/local/lib/python3.10/dist-packages/torch/serialization.py\", line 713, in load\n",
            "    return _legacy_load(opened_file, map_location, pickle_module, **pickle_load_args)\n",
            "  File \"/usr/local/lib/python3.10/dist-packages/torch/serialization.py\", line 930, in _legacy_load\n",
            "    result = unpickler.load()\n",
            "  File \"/usr/local/lib/python3.10/dist-packages/torch/serialization.py\", line 876, in persistent_load\n",
            "    wrap_storage=restore_location(obj, location),\n",
            "  File \"/usr/local/lib/python3.10/dist-packages/torch/serialization.py\", line 176, in default_restore_location\n",
            "    result = fn(storage, location)\n",
            "  File \"/usr/local/lib/python3.10/dist-packages/torch/serialization.py\", line 152, in _cuda_deserialize\n",
            "    device = validate_cuda_device(location)\n",
            "  File \"/usr/local/lib/python3.10/dist-packages/torch/serialization.py\", line 136, in validate_cuda_device\n",
            "    raise RuntimeError('Attempting to deserialize object on a CUDA '\n",
            "RuntimeError: Attempting to deserialize object on a CUDA device but torch.cuda.is_available() is False. If you are running on a CPU-only machine, please use torch.load with map_location=torch.device('cpu') to map your storages to the CPU.\n"
          ]
        }
      ],
      "source": [
        "%cd \"/content/DiffFace/\"\n",
        "# Run the cell first, if the directories data/debug, data/dst, data/src do not exist, they will be created\n",
        "# Name your file whose face you want to get swapped aka keep the body as \"src.png\"/ \"src.jpg\"\n",
        "# Name your file whose face you want to swap with aka the face as \"dst.png\"/ \"dst.jpg\"\n",
        "# Shift the \"src.png\" to data/src and shift the \"dst.png\" to data/src and then run the code and your model will start training\n",
        "\n",
        "!python main.py --iterations_num 3 --loss_weight 4000 --output_path output/final\n",
        "\n",
        "\n",
        "# #!zip -0 -r -q data.zip data\n",
        "# !cp \"/content/DiffFace/data/dst/merged/dst.jpg\" \"/content/drive/MyDrive/dsti.jpg\"\n",
        "# #!rm -f /content/DiffFace/data/dst/aligned/0010*"
      ]
    },
    {
      "cell_type": "code",
      "execution_count": null,
      "metadata": {
        "id": "ab-CcwVkRzpr"
      },
      "outputs": [],
      "source": [
        "#"
      ]
    }
  ],
  "metadata": {
    "accelerator": "TPU",
    "colab": {
      "gpuType": "V28",
      "provenance": []
    },
    "kernelspec": {
      "display_name": "Python 3",
      "name": "python3"
    },
    "language_info": {
      "name": "python"
    }
  },
  "nbformat": 4,
  "nbformat_minor": 0
}